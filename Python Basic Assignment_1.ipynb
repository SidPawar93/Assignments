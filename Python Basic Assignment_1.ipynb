{
 "cells": [
  {
   "cell_type": "markdown",
   "id": "4ddd081e",
   "metadata": {},
   "source": [
    "1. In the below elements which of them are values or an expression? eg:- values can be integer or string and expressions will be mathematical operators.\n",
    "\n",
    "* \n",
    "'hello'\n",
    "-87.8\n",
    "- \n",
    "/ \n",
    "+\t\n",
    "6 \n",
    "\n",
    "Solution : \n",
    "List of Expressions(Operators) : * , - , / , + \n",
    "List of Values      : string :'hello', float : -87.8 , int : 6\n",
    "\n"
   ]
  },
  {
   "cell_type": "markdown",
   "id": "18593094",
   "metadata": {},
   "source": [
    "2. What is the difference between string and variable?\n",
    "\n",
    "Solution : Variable are used in Python to store data in form of various data types such as integer, float or string. String on other hand is a data type, which consists of collection of characters that are enclosed in a double quote or single quote."
   ]
  },
  {
   "cell_type": "markdown",
   "id": "b4313296",
   "metadata": {},
   "source": [
    "3. Describe three different data types.\n",
    "\n",
    "Solution : In total there are three data types, which are int, float and string.\n",
    "int : It is a data type which store on integer type values. These values could be positive or negative, \n",
    "      however it should not be in decimal form. For example, -64, 25,15 etc\n",
    "float : It is a data type which stores decimal type values. It could be positive or negative, however it is in decimal form\n",
    "        For example : 12.48, -85.45 etc\n",
    "string :It is a data type which consists of collection of characters in single or double quote. These characters could be           int, float or any characters. For example : \"Country\", '*', etc\n"
   ]
  },
  {
   "cell_type": "markdown",
   "id": "3cfa9cf3",
   "metadata": {},
   "source": [
    "4. What is an expression made up of? What do all expressions do?\n",
    "\n",
    "Solution : An expression is statement made up of variables, operators or constants. It is used to perform operations such as addition, subtraction etc. The value itself is a expression. "
   ]
  },
  {
   "cell_type": "markdown",
   "id": "3f2e80cf",
   "metadata": {},
   "source": [
    "5. This assignment statements, like spam = 10. What is the difference between an expression and a statement?\n",
    "\n",
    "Solution : A statement in Python is an instruction given to read and execute. Statement could be an expression or an assignment statement. "
   ]
  },
  {
   "cell_type": "markdown",
   "id": "11207265",
   "metadata": {},
   "source": [
    "6. After running the following code, what does the variable bacon contain?\n",
    "bacon = 22\n",
    "bacon + 1\n",
    "\n",
    "Solution : 22"
   ]
  },
  {
   "cell_type": "markdown",
   "id": "1b8e2bc3",
   "metadata": {},
   "source": [
    "7. What should the values of the following two terms be?\n",
    "'spam' + 'spamspam'\n",
    "'spam' * 3\n",
    "\n",
    "Solution : On running both expressions evaluate to the string 'spamspamspam'"
   ]
  },
  {
   "cell_type": "markdown",
   "id": "980beae1",
   "metadata": {},
   "source": [
    "8. Why is eggs a valid variable name while 100 is invalid?\n",
    "\n",
    "Solution : A valid variable always name starts with a letter, followed by letters, digits, or underscores. As eggs being a collection of letters starting with a letter, it could be considered as a valid variable. However, 100 cannot be consdered as valid variable as it starts with an interger."
   ]
  },
  {
   "cell_type": "markdown",
   "id": "aa0298c7",
   "metadata": {},
   "source": [
    "9. What three functions can be used to get the integer, floating-point number, or string version of a value?\n",
    "\n",
    "Solution : The int(), float(), and str() functions will evaluate to the integer, floating-point number, and string versions of the value passed to them."
   ]
  },
  {
   "cell_type": "markdown",
   "id": "93e062f1",
   "metadata": {},
   "source": [
    "10. Why does this expression cause an error? How can you fix it?\n",
    "'I have eaten ' + 99 + ' burritos.'\n",
    "\n",
    "Solution : This expression causes an error 'TypeError: can only concatenate str (not \"int\") to str'. It generally happens when we try to concatenate string with non-string values. To fix this error, we can type case the int variable to string type. \n"
   ]
  }
 ],
 "metadata": {
  "kernelspec": {
   "display_name": "Python 3 (ipykernel)",
   "language": "python",
   "name": "python3"
  },
  "language_info": {
   "codemirror_mode": {
    "name": "ipython",
    "version": 3
   },
   "file_extension": ".py",
   "mimetype": "text/x-python",
   "name": "python",
   "nbconvert_exporter": "python",
   "pygments_lexer": "ipython3",
   "version": "3.9.7"
  }
 },
 "nbformat": 4,
 "nbformat_minor": 5
}
