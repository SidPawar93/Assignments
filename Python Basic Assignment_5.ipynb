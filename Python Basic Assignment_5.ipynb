{
 "cells": [
  {
   "cell_type": "markdown",
   "id": "6cdf1c9d",
   "metadata": {},
   "source": [
    "1. What does an empty dictionary's code look like?\n",
    "\n",
    "Solution : To create an empty dictionary, we can assign no elements in curly brackets {}. We can also create an empty dictionary by using the dict() method. Example :\n",
    "my_dict = {}\n",
    "\n",
    "or my_dict = dict()"
   ]
  },
  {
   "cell_type": "markdown",
   "id": "7ab71fa1",
   "metadata": {},
   "source": [
    "2. What is the value of a dictionary value with the key 'foo' and the value 42?\n",
    "Solution : my_dict = {'foo' : 42}\n",
    "The value of the dictonary would be 42. It can be called using method values() i.e. my_dict.values()"
   ]
  },
  {
   "cell_type": "markdown",
   "id": "3045f12e",
   "metadata": {},
   "source": [
    "3. What is the most significant distinction between a dictionary and a list?\n",
    "Solution : The most significant distinction between a dictionary and a list is that the items in dictionaries are accessed via keys and and in list they are accessed via index or position. "
   ]
  },
  {
   "cell_type": "markdown",
   "id": "daae7c71",
   "metadata": {},
   "source": [
    "4. What happens if you try to access spam['foo'] if spam is {'bar': 100}?\n",
    "Solution : In this given dictonary 'spam', we have only one key which is 'bar'. Hence, if we try to get values for key 'foo' we will get a key error. "
   ]
  },
  {
   "cell_type": "markdown",
   "id": "57e1c668",
   "metadata": {},
   "source": [
    "5. If a dictionary is stored in spam, what is the difference between the expressions 'cat' in spam and 'cat' in spam.keys()?\n",
    "Solution : Here, we have a dictionary spam such as , spam = {'key1' : 42, 'cat' : 54}. If we call 'cat' in spam or 'cat' in spam.keys(), it won't make a difference as we have a key named as 'cat' in the dictionary. Hence, in both cases we will recieve a output True as both statements are true. "
   ]
  },
  {
   "cell_type": "markdown",
   "id": "7ac89fd6",
   "metadata": {},
   "source": [
    "6. If a dictionary is stored in spam, what is the difference between the expressions 'cat' in spam and 'cat' in spam.values()?\n",
    "SOlution : Here, we have a dictionary spam such as , spam = {'key1' : 42, 'cat' : 54}. If we call 'cat' in spam we will recieve output as True as we do have a key named as 'cat' in spam. However, if we call 'cat' in spam.values() we will get an output False as we don't any value 'cat'. "
   ]
  },
  {
   "cell_type": "markdown",
   "id": "a0e576f7",
   "metadata": {},
   "source": [
    "7. What is a shortcut for the following code?\n",
    "if 'color' not in spam:\n",
    "    spam['color'] = 'black'\n",
    "Solution : The shortcut for above code is spam.setdefault('color','black'). By using setdefault() method we will not override the values if the key 'color' is already present. "
   ]
  },
  {
   "cell_type": "markdown",
   "id": "55c11697",
   "metadata": {},
   "source": [
    "8. How do you \"pretty print\" dictionary values using which module and function?\n",
    "Solution : Within the pprint module there is a function with the same name pprint(), which is the function used to pretty-print the dictonary values. "
   ]
  }
 ],
 "metadata": {
  "kernelspec": {
   "display_name": "Python 3 (ipykernel)",
   "language": "python",
   "name": "python3"
  },
  "language_info": {
   "codemirror_mode": {
    "name": "ipython",
    "version": 3
   },
   "file_extension": ".py",
   "mimetype": "text/x-python",
   "name": "python",
   "nbconvert_exporter": "python",
   "pygments_lexer": "ipython3",
   "version": "3.9.7"
  }
 },
 "nbformat": 4,
 "nbformat_minor": 5
}
