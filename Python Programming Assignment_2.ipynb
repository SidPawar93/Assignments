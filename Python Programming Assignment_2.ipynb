{
 "cells": [
  {
   "cell_type": "code",
   "execution_count": 1,
   "id": "71a0b1be",
   "metadata": {},
   "outputs": [
    {
     "name": "stdout",
     "output_type": "stream",
     "text": [
      "Enter value in Kilometers\n",
      "1\n",
      "The value of 1.0 kilometers in miles is 0.621371.\n"
     ]
    }
   ],
   "source": [
    "#1.Write a Python program to convert kilometers to miles?\n",
    "\n",
    "km = float(input(\"Enter value in Kilometers\\n\"))\n",
    "miles = km * 0.621371\n",
    "print(f\"The value of {km} kilometers in miles is {miles}.\")"
   ]
  },
  {
   "cell_type": "code",
   "execution_count": 2,
   "id": "f7b79a92",
   "metadata": {},
   "outputs": [
    {
     "name": "stdout",
     "output_type": "stream",
     "text": [
      "Enter value in Celsius\n",
      "1\n",
      "The value of 1°C is 33.8°F.\n"
     ]
    }
   ],
   "source": [
    "#2.Write a Python program to convert Celsius to Fahrenheit?\n",
    "\n",
    "celsius = int(input(\"Enter value in Celsius\\n\"))\n",
    "Fahrenheit = (celsius*9/5)+32\n",
    "print(f\"The value of {celsius}°C is {Fahrenheit}°F.\")"
   ]
  },
  {
   "cell_type": "code",
   "execution_count": 3,
   "id": "2e742101",
   "metadata": {},
   "outputs": [
    {
     "name": "stdout",
     "output_type": "stream",
     "text": [
      "Enter required year \n",
      "1993\n",
      "Enter required month \n",
      "2\n",
      "   February 1993\n",
      "Mo Tu We Th Fr Sa Su\n",
      " 1  2  3  4  5  6  7\n",
      " 8  9 10 11 12 13 14\n",
      "15 16 17 18 19 20 21\n",
      "22 23 24 25 26 27 28\n",
      "\n"
     ]
    }
   ],
   "source": [
    "#3.Write a Python program to display calendar?\n",
    "\n",
    "from calendar import month\n",
    "\n",
    "year = int(input(\"Enter required year \\n\"))\n",
    "mon = int(input(\"Enter required month \\n\"))\n",
    "\n",
    "print(month(year,mon))"
   ]
  },
  {
   "cell_type": "code",
   "execution_count": 4,
   "id": "207acf05",
   "metadata": {},
   "outputs": [
    {
     "name": "stdout",
     "output_type": "stream",
     "text": [
      "Enter value of a\n",
      "1\n",
      "Enter value of b\n",
      "1\n",
      "Enetr value of c\n",
      "1\n",
      "The solutions are -0.500-0.866j and -0.500+0.866j\n"
     ]
    }
   ],
   "source": [
    "#4.Write a Python program to solve quadratic equation?\n",
    "\n",
    "import cmath\n",
    "\n",
    "a = float(input(\"Enter value of a\\n\"))\n",
    "b = float(input(\"Enter value of b\\n\"))\n",
    "c = float(input(\"Enetr value of c\\n\"))\n",
    "\n",
    "x = (b**2)-(4*a*c)\n",
    "\n",
    "sol1 = (-b-cmath.sqrt(x))/(2*a)  \n",
    "sol2 = (-b+cmath.sqrt(x))/(2*a)  \n",
    "\n",
    "print(f\"The solutions are {sol1:.3f} and {sol2:.3f}\")  "
   ]
  },
  {
   "cell_type": "code",
   "execution_count": 5,
   "id": "08999568",
   "metadata": {},
   "outputs": [
    {
     "name": "stdout",
     "output_type": "stream",
     "text": [
      "Enter value of a : 5\n",
      "Enter value of b : 9\n",
      "The values after swap are a = 9, b = 5\n"
     ]
    }
   ],
   "source": [
    "#5.Write a Python program to swap two variables without temp variable?\n",
    "\n",
    "a = int(input(\"Enter value of a : \"))\n",
    "b = int(input(\"Enter value of b : \"))\n",
    "\n",
    "a, b = b, a\n",
    "\n",
    "print(f\"The values after swap are a = {a}, b = {b}\")"
   ]
  },
  {
   "cell_type": "code",
   "execution_count": null,
   "id": "3f5c42cb",
   "metadata": {},
   "outputs": [],
   "source": []
  }
 ],
 "metadata": {
  "kernelspec": {
   "display_name": "Python 3 (ipykernel)",
   "language": "python",
   "name": "python3"
  },
  "language_info": {
   "codemirror_mode": {
    "name": "ipython",
    "version": 3
   },
   "file_extension": ".py",
   "mimetype": "text/x-python",
   "name": "python",
   "nbconvert_exporter": "python",
   "pygments_lexer": "ipython3",
   "version": "3.9.7"
  }
 },
 "nbformat": 4,
 "nbformat_minor": 5
}
