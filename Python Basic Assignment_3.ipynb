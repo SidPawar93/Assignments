{
 "cells": [
  {
   "cell_type": "markdown",
   "id": "2ec58532",
   "metadata": {},
   "source": [
    "1. Why are functions advantageous to have in your programs?\n",
    "\n",
    "Solution : Having functions in our program, saves our time in writing the same code again. It also simplefies our program,                  as it makes our program more readable. Using Functions, we can also divide the tasks on short levels. "
   ]
  },
  {
   "cell_type": "markdown",
   "id": "9aff7863",
   "metadata": {},
   "source": [
    "2. When does the code in a function run: when it's specified or when it's called?\n",
    "\n",
    "Solution : The code in a function runs when it is called."
   ]
  },
  {
   "cell_type": "markdown",
   "id": "212d6ce4",
   "metadata": {},
   "source": [
    "3. What statement creates a function?\n",
    "\n",
    "Solution : The “def” keyword is a statement to define a function in Python."
   ]
  },
  {
   "cell_type": "markdown",
   "id": "9936a4e2",
   "metadata": {},
   "source": [
    "4. What is the difference between a function and a function call?\n",
    "\n",
    "Solution : A function is defined using def keyword and assigned with various takes indside it. On other hand, a function call is used to call that particular function using the function name, to execute the tasks assigned in that function. "
   ]
  },
  {
   "cell_type": "markdown",
   "id": "33dd8e08",
   "metadata": {},
   "source": [
    "5. How many global scopes are there in a Python program? How many local scopes?\n",
    "\n",
    "Solution : There are two gobal scopes, names defined at the top of the program and names declared in function as global. Names assigned in a function by default have a local scope, every time a function is called a new local scope is created. "
   ]
  },
  {
   "cell_type": "markdown",
   "id": "11c95321",
   "metadata": {},
   "source": [
    "6. What happens to variables in a local scope when the function call returns?\n",
    "\n",
    "Solution : Once the function is completed and the function call is returned, the local variables are destroyed."
   ]
  },
  {
   "cell_type": "markdown",
   "id": "0d932d43",
   "metadata": {},
   "source": [
    "7. What is the concept of a return value? Is it possible to have a return value in an expression?\n",
    "\n",
    "Solution : A return statement is used to end the execution of the function call and returns the result using the 'return' keyword. Yes, we can return an expression. \n",
    "\n",
    "Example : def add(a,b) :\n",
    "    return a+b"
   ]
  },
  {
   "cell_type": "markdown",
   "id": "8e966cd0",
   "metadata": {},
   "source": [
    "8. If a function does not have a return statement, what is the return value of a call to that function?\n",
    "\n",
    "Solution : If a function does not have a return statement, then the return value is 'NoneType'. "
   ]
  },
  {
   "cell_type": "markdown",
   "id": "2cb8a2e9",
   "metadata": {},
   "source": [
    "9. How do you make a function variable refer to the global variable?\n",
    "\n",
    "Solution : We can use the 'global' keyword to declare which variables are global."
   ]
  },
  {
   "cell_type": "markdown",
   "id": "286adf16",
   "metadata": {},
   "source": [
    "10. What is the data type of None?\n",
    "\n",
    "Solution : None is a data type of its own (NoneType) and only None can be None."
   ]
  },
  {
   "cell_type": "markdown",
   "id": "2d9b657f",
   "metadata": {},
   "source": [
    "11. What does the sentence import areallyourpetsnamederic do?\n",
    "\n",
    "SOlution : This import statement imports a module named areallyourpetsnamederic."
   ]
  },
  {
   "cell_type": "markdown",
   "id": "2ff7ef75",
   "metadata": {},
   "source": [
    "12. If you had a bacon() feature in a spam module, what would you call it after importing spam?\n",
    "\n",
    "Solution : This function can be called with spam.bacon()."
   ]
  },
  {
   "cell_type": "markdown",
   "id": "e4985a32",
   "metadata": {},
   "source": [
    "13. What can you do to save a programme from crashing if it encounters an error?\n",
    "\n",
    "Solution : As precautionary meature, we can use exception handling to save program from crashing."
   ]
  },
  {
   "cell_type": "markdown",
   "id": "38d75d9c",
   "metadata": {},
   "source": [
    "14. What is the purpose of the try clause? What is the purpose of the except clause?\n",
    "\n",
    "Solution : try clause is used to test code for an error which is written in the “try” statement. except clause is executed when the try catches an error. "
   ]
  }
 ],
 "metadata": {
  "kernelspec": {
   "display_name": "Python 3 (ipykernel)",
   "language": "python",
   "name": "python3"
  },
  "language_info": {
   "codemirror_mode": {
    "name": "ipython",
    "version": 3
   },
   "file_extension": ".py",
   "mimetype": "text/x-python",
   "name": "python",
   "nbconvert_exporter": "python",
   "pygments_lexer": "ipython3",
   "version": "3.9.7"
  }
 },
 "nbformat": 4,
 "nbformat_minor": 5
}
