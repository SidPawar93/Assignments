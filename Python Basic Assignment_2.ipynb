{
 "cells": [
  {
   "cell_type": "markdown",
   "id": "603a0c3a",
   "metadata": {},
   "source": [
    "1. What are the two values of the Boolean data type? How do you write them?\n",
    "\n",
    "Solution : The two values of the Boolean data type are true and false. It is written keeping first letter as capital and following with lower case letters, such as True and False. "
   ]
  },
  {
   "cell_type": "markdown",
   "id": "e6d32153",
   "metadata": {},
   "source": [
    "2. What are the three different types of Boolean operators?\n",
    "\n",
    "Solution : The three basic boolean operators are: AND, OR, and NOT."
   ]
  },
  {
   "cell_type": "markdown",
   "id": "31102e13",
   "metadata": {},
   "source": [
    "3. Make a list of each Boolean operator's truth tables (i.e. every possible combination of Boolean values for the operator and what it evaluate ).\n",
    "\n",
    "Solution : \n",
    "\n",
    "condition 1\t\tcondition 2\t\tNOT X\t\t X AND Y\t\t  X OR Y\n",
    "(e.g., X)\t\t(e.g., Y)\t\t( ~ X )\t   ( X && Y )       ( X || Y )\n",
    "   FALSE\t   \t FALSE\t\t    TRUE\t\t FALSE\t\t      FALSE\n",
    "   FALSE\t\t TRUE\t\t    TRUE\t\t FALSE\t\t      TRUE\n",
    "   TRUE\t\t     FALSE\t\t    FALSE\t\t FALSE\t\t      TRUE\n",
    "   TRUE\t\t     TRUE\t\t    FALSE\t\t TRUE\t\t      TRUE"
   ]
  },
  {
   "cell_type": "code",
   "execution_count": null,
   "id": "f581691c",
   "metadata": {},
   "outputs": [],
   "source": [
    "4. What are the values of the following expressions?\n",
    "(5 > 4) and (3 == 5)\n",
    "not (5 > 4)\n",
    "(5 > 4) or (3 == 5)\n",
    "not ((5 > 4) or (3 == 5))\n",
    "(True and True) and (True == False)\n",
    "(not False) or (not True)\n",
    "\n",
    "Solution : \n",
    "    (5 > 4) and (3 == 5) gives value False\n",
    "    not (5 > 4) gives value False\n",
    "    (5 > 4) or (3 == 5) gives value True\n",
    "    not ((5 > 4) or (3 == 5)) gives value False\n",
    "    (True and True) and (True == False) gives value True\n",
    "    (not False) or (not True) gives value True"
   ]
  },
  {
   "cell_type": "markdown",
   "id": "5886a6b0",
   "metadata": {},
   "source": [
    "5. What are the six comparison operators?\n",
    "\n",
    "Solution : The six comparison operators are: equal to '==', not equal to '!=', greater than '>', greater than or equal to '>=', less than '<', and less than or equal to '<='."
   ]
  },
  {
   "cell_type": "markdown",
   "id": "c49df7c6",
   "metadata": {},
   "source": [
    "6. How do you tell the difference between the equal to and assignment operators? Describe a condition and when you would use one.\n",
    "\n",
    "Solution : Assignment operators are used while assigning values to a variable. However, equal to operator is used to compare the values between two variables. The equal to operator is mostly used in condition statements.\n",
    "Example : my_no = 45, In this statement we have assigned value 45 to variable my_no using assignment operator. \n",
    "         \n",
    "         if a ==b :\n",
    "             pass\n",
    "         In this example, we have used to equal to operator to check the values between a and b. \n"
   ]
  },
  {
   "cell_type": "markdown",
   "id": "0b0cd995",
   "metadata": {},
   "source": [
    "7. Identify the three blocks in this code:\n",
    "spam = 0\n",
    "if spam == 10:\n",
    "print('eggs')\n",
    "if spam > 5:\n",
    "print('bacon')\n",
    "else:\n",
    "print('ham')\n",
    "print('spam')\n",
    "print('spam')\n",
    "\n",
    "Solution : \n",
    "First Block :   \n",
    "if spam == 10 :\n",
    "    print('eggs')\n",
    "\n",
    "Second Block :\n",
    "if spam > 5:\n",
    "    print('bacon')\n",
    "\n",
    "Third Block :\n",
    "else:\n",
    "print('ham')\n",
    "print('spam')\n",
    "print('spam')\n"
   ]
  },
  {
   "cell_type": "markdown",
   "id": "e536be31",
   "metadata": {},
   "source": [
    "8. Write code that prints Hello if 1 is stored in spam, prints Howdy if 2 is stored in spam, and prints Greetings! if anything else is stored in spam. \n",
    "\n",
    "Solution :\n",
    "spam = int(input(\"Enter a single digit\"))\n",
    "if spam == 1 :\n",
    "    print('Hello')\n",
    "elif spam == 2 :\n",
    "    print('Howdy')\n",
    "else : print(\"Greetings!\")"
   ]
  },
  {
   "cell_type": "markdown",
   "id": "541c215c",
   "metadata": {},
   "source": [
    "9. If your programme is stuck in an endless loop, what keys you’ll press?\n",
    "\n",
    "Solution : I will press 'interrupt the kernel' key."
   ]
  },
  {
   "cell_type": "markdown",
   "id": "fe172acf",
   "metadata": {},
   "source": [
    "10. How can you tell the difference between break and continue?\n",
    "\n",
    "Solution : The break statement causes a loop to terminate a case at the very moment of its execution. However, the continue statement doesn’t cause a loop termination, but leads it into its next iteration. "
   ]
  },
  {
   "cell_type": "markdown",
   "id": "f1e4a13b",
   "metadata": {},
   "source": [
    "11. In a for loop, what is the difference between range(10), range(0, 10), and range(0, 10, 1)?\n",
    "\n",
    "Solution : All of three statements means the same and gives same values on execution. "
   ]
  },
  {
   "cell_type": "markdown",
   "id": "ccc19558",
   "metadata": {},
   "source": [
    "12. Write a short program that prints the numbers 1 to 10 using a for loop. Then write an equivalent program that prints the numbers 1 to 10 using a while loop.\n",
    "\n",
    "Solution : \n",
    "\n",
    "a) for i in range(10) :\n",
    "    print(i+1)\n",
    "    \n",
    "b) i = 1;\n",
    "while i<=10 :\n",
    "    print(i)\n",
    "    i+=1"
   ]
  },
  {
   "cell_type": "markdown",
   "id": "90b0c88a",
   "metadata": {},
   "source": [
    "13. If you had a function named bacon() inside a module named spam, how would you call it after importing spam?\n",
    "\n",
    "Solution : We can call a function inside a module by using a dot(.) operator along with the module name. Such as, spam.bacon()"
   ]
  }
 ],
 "metadata": {
  "kernelspec": {
   "display_name": "Python 3 (ipykernel)",
   "language": "python",
   "name": "python3"
  },
  "language_info": {
   "codemirror_mode": {
    "name": "ipython",
    "version": 3
   },
   "file_extension": ".py",
   "mimetype": "text/x-python",
   "name": "python",
   "nbconvert_exporter": "python",
   "pygments_lexer": "ipython3",
   "version": "3.9.7"
  }
 },
 "nbformat": 4,
 "nbformat_minor": 5
}
