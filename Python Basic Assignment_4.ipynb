{
 "cells": [
  {
   "cell_type": "markdown",
   "id": "304afe1b",
   "metadata": {},
   "source": [
    "1. What exactly is []?\n",
    "\n",
    "Solution : It can be said as an empty list. We can use it to initialize a list variable. \n"
   ]
  },
  {
   "cell_type": "markdown",
   "id": "6fd97e6c",
   "metadata": {},
   "source": [
    "2. In a list of values stored in a variable called spam, how would you assign the value 'hello' as the third value? (Assume [2, 4, 6, 8, 10] are in spam.)\n",
    "\n",
    "Solution : To assign a value to a specific index, we will require to use insert() method. spam.insert(2,'hello')\n"
   ]
  },
  {
   "cell_type": "raw",
   "id": "5bd5843e",
   "metadata": {},
   "source": [
    "Let's pretend the spam includes the list ['a', 'b', 'c', 'd'] for the next three queries."
   ]
  },
  {
   "cell_type": "markdown",
   "id": "8af0f7c3",
   "metadata": {},
   "source": [
    "3. What is the value of spam[int(int('3' * 2) / 11)]?\n",
    "\n",
    "Solution : int('3' * 2) will give 3 twice and diviing it by 11 will give 3 as a index value. Hence, the output will be value of span at index 3 which is 'd'."
   ]
  },
  {
   "cell_type": "markdown",
   "id": "2aab9d35",
   "metadata": {},
   "source": [
    "4. What is the value of spam[-1]?\n",
    "Solution : 'd'"
   ]
  },
  {
   "cell_type": "markdown",
   "id": "29a2f16a",
   "metadata": {},
   "source": [
    "5. What is the value of spam[:2]?\n",
    "Solution : ['a', 'b']"
   ]
  },
  {
   "cell_type": "raw",
   "id": "b8c7846f",
   "metadata": {},
   "source": [
    "Let's pretend bacon has the list [3.14, 'cat', 11, 'cat', True] for the next three questions."
   ]
  },
  {
   "cell_type": "markdown",
   "id": "b110d080",
   "metadata": {},
   "source": [
    "6. What is the value of bacon.index('cat')?\n",
    "SOlution : It will return first index of value 'cat', which is '1'."
   ]
  },
  {
   "cell_type": "markdown",
   "id": "fb63f3b5",
   "metadata": {},
   "source": [
    "7. How does bacon.append(99) change the look of the list value in bacon?\n",
    "Solution : Yes, it will add value 99 at the end of the list. [3.14, 'cat', 11, 'cat', True, 99]"
   ]
  },
  {
   "cell_type": "markdown",
   "id": "3a19dde8",
   "metadata": {},
   "source": [
    "8. How does bacon.remove('cat') change the look of the list in bacon?\n",
    "Solution : On first call - [3.14, 11, 'cat', True] and on second call - [3.14, 11, True]"
   ]
  },
  {
   "cell_type": "markdown",
   "id": "2ca9d2e7",
   "metadata": {},
   "source": [
    "9. What are the list concatenation and list replication operators? \n",
    "Solution : The operator for list concatenation is +, and the operator for replication is *."
   ]
  },
  {
   "cell_type": "markdown",
   "id": "1a140fe1",
   "metadata": {},
   "source": [
    "10. What is difference between the list methods append() and insert()?\n",
    "Solution : Using append() method we can add a value at the end of the list, however using insert() method we can add a value at a specific index."
   ]
  },
  {
   "cell_type": "markdown",
   "id": "cb7f63ba",
   "metadata": {},
   "source": [
    "11. What are the two methods for removing items from a list?\n",
    "Solution : We can use two methods to remove items from a list which are pop() and remove()."
   ]
  },
  {
   "cell_type": "markdown",
   "id": "164edb82",
   "metadata": {},
   "source": [
    "12. Describe how list values and string values are identical.\n",
    "Solution : Multiple items arranged together could be a list or a string. The items of list or string can be called one by one using a loop. "
   ]
  },
  {
   "cell_type": "markdown",
   "id": "0ab97c66",
   "metadata": {},
   "source": [
    "13. What's the difference between tuples and lists?\n",
    "Solution : list is mutable and tuples is immutable."
   ]
  },
  {
   "cell_type": "markdown",
   "id": "d217b6cf",
   "metadata": {},
   "source": [
    "14. How do you type a tuple value that only contains the integer 42?\n",
    "Solution : If the tuple contains only one element, then it's not considered as a tuple. It should have a trailing comma to specify the interpreter that it's a tuple."
   ]
  },
  {
   "cell_type": "markdown",
   "id": "026ee956",
   "metadata": {},
   "source": [
    "15. How do you get a list value's tuple form? How do you get a tuple value's list form?\n",
    "Solution : We can give list value a tuple form by type casting as tuple(list). Similarly, we can type cast tuple values in list list(value). "
   ]
  },
  {
   "cell_type": "markdown",
   "id": "1ebb3bdc",
   "metadata": {},
   "source": [
    "16. Variables that \"contain\" list values are not necessarily lists themselves. Instead, what do they contain?\n",
    "Solution : Variables will contain references to list values rather than list values themselves. But for strings and integer values, variables simply contain the string or integer value."
   ]
  },
  {
   "cell_type": "markdown",
   "id": "c2c850f0",
   "metadata": {},
   "source": [
    "17. How do you distinguish between copy.copy() and copy.deepcopy()?\n",
    "Solution : copy.copy() or shallow copy, in this case a 'reference' of object is copied in other object. It means that any changes made to a copy of object do reflect in the original object. \n",
    "copy.deepcopy() or deep copy, in this case the deep copy creates independent copy of original object and all its nested objects."
   ]
  }
 ],
 "metadata": {
  "kernelspec": {
   "display_name": "Python 3 (ipykernel)",
   "language": "python",
   "name": "python3"
  },
  "language_info": {
   "codemirror_mode": {
    "name": "ipython",
    "version": 3
   },
   "file_extension": ".py",
   "mimetype": "text/x-python",
   "name": "python",
   "nbconvert_exporter": "python",
   "pygments_lexer": "ipython3",
   "version": "3.9.7"
  }
 },
 "nbformat": 4,
 "nbformat_minor": 5
}
