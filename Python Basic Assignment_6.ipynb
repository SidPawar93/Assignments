{
 "cells": [
  {
   "cell_type": "markdown",
   "id": "154283c1",
   "metadata": {},
   "source": [
    "1. What are escape characters, and how do you use them?\n",
    "\n",
    "Solution: Escape characters represent characters in string values that would otherwise be difficult or impossible to type into code. We use the backslash character to escape a single character or symbol. Only the character immediately following the backslash is escaped. To explain with an example, if we write a string in single quotes and use a single quote inside the string we won't be able to execute it. ex: str1 = 'This is sid's world' \n",
    "Hence, to escape the single quote inside the string we use backslash character or escape character. ex: str2= 'This is sid\\'s world'"
   ]
  },
  {
   "cell_type": "code",
   "execution_count": 7,
   "id": "908ae974",
   "metadata": {},
   "outputs": [
    {
     "data": {
      "text/plain": [
       "\"This is sid's world\""
      ]
     },
     "execution_count": 7,
     "metadata": {},
     "output_type": "execute_result"
    }
   ],
   "source": [
    "'This is sid\\'s world' "
   ]
  },
  {
   "cell_type": "markdown",
   "id": "be6b5778",
   "metadata": {},
   "source": [
    "2. What do the escape characters n and t stand for?\n",
    "\n",
    "SOlution: The escape character \\n stands for newline and escape character \\t stands for tab."
   ]
  },
  {
   "cell_type": "markdown",
   "id": "e67992c5",
   "metadata": {},
   "source": [
    "3. What is the way to include backslash characters in a string?\n",
    "\n",
    "Solution : To include a backslash character inside a string, we need to include backslash two times. For example: C:\\\\Program Files\\\\Git"
   ]
  },
  {
   "cell_type": "markdown",
   "id": "fd7c5af6",
   "metadata": {},
   "source": [
    "4. The string \"Howl's Moving Castle\" is a correct value. Why isn't the single quote character in the word Howl's not escaped a problem?\n",
    "\n",
    "SOlution : The above mentioned string \"Howl's Moving Castle\" is included in double quotes, hence the single quote inside the string didn't got any error. This is because, if we use single quote everywhere, the programs fails to understand closing of the string. But if doule quotes are used to open and close the string, the program is able to undertand and don't give any error to the single quote inside. "
   ]
  },
  {
   "cell_type": "markdown",
   "id": "747b1af6",
   "metadata": {},
   "source": [
    "5. How do you write a string of newlines if you don't want to use the n character?\n",
    "\n",
    "Solution : To write a string of newlines, we can use triple quotes.  "
   ]
  },
  {
   "cell_type": "markdown",
   "id": "f4fb2a08",
   "metadata": {},
   "source": [
    "6. What are the values of the given expressions?\n",
    "'Hello, world!'[1]\n",
    "'Hello, world!'[0:5]\n",
    "'Hello, world!'[:5]\n",
    "'Hello, world!'[3:]\n",
    "\n",
    "Solution: 'Hello, world!'[1] gives output 'e' as this character is at index '1'.\n",
    "'Hello, world!'[0:5] gives output 'Hello' as we have requested characters from index 0 to index 5\n",
    "'Hello, world!'[:5] gives output 'Hello' as requested characters from index 0 to 5\n",
    "'Hello, world!'[3:] gives output 'lo, world!' as we requested charactres from index to 3 until end. "
   ]
  },
  {
   "cell_type": "markdown",
   "id": "59b868de",
   "metadata": {},
   "source": [
    "7. What are the values of the following expressions?\n",
    "'Hello'.upper()\n",
    "'Hello'.upper().isupper()\n",
    "'Hello'.upper().lower()\n",
    "\n",
    "SOlution : 'Hello'.upper() gives outout 'HELLO' as the function upper gives uppercase of the string. \n",
    "'Hello'.upper().isupper() gives output True as Hello'.upper() gives all charactres in uppercase.\n",
    "'Hello'.upper().lower() gives output 'hello' as we first change the characters to uppercase and in the end we change it lowecase using function lower()"
   ]
  },
  {
   "cell_type": "markdown",
   "id": "5559db39",
   "metadata": {},
   "source": [
    "8. What are the values of the following expressions?\n",
    "'Remember, remember, the fifth of July.'.split()\n",
    "'-'.join('There can only one.'.split())\n",
    "Solution : 'Remember, remember, the fifth of July.'.split() gives output as ['Remember,', 'remember,', 'the', 'fifth', 'of', 'July.'] \n",
    "'-'.join('There can only one.'.split()) gives output as 'There-can-only-one.'"
   ]
  },
  {
   "cell_type": "markdown",
   "id": "82612a4d",
   "metadata": {},
   "source": [
    "9. What are the methods for right-justifying, left-justifying, and centering a string?\n",
    "Solution : \n",
    "right-justifying : rjust(size, fill_char)\n",
    "left-justifying :  ljust(size, fill_char)\n",
    "centering a string : str.center(width, fill_char)\n"
   ]
  },
  {
   "cell_type": "markdown",
   "id": "2b370886",
   "metadata": {},
   "source": [
    "10. What is the best way to remove whitespace characters from the start or end?\n",
    "Solution: To remove whitespace characters from the beginning or from the end of a string only, you use the trimStart() or trimEnd() method."
   ]
  },
  {
   "cell_type": "code",
   "execution_count": null,
   "id": "459a5430",
   "metadata": {},
   "outputs": [],
   "source": []
  }
 ],
 "metadata": {
  "kernelspec": {
   "display_name": "Python 3 (ipykernel)",
   "language": "python",
   "name": "python3"
  },
  "language_info": {
   "codemirror_mode": {
    "name": "ipython",
    "version": 3
   },
   "file_extension": ".py",
   "mimetype": "text/x-python",
   "name": "python",
   "nbconvert_exporter": "python",
   "pygments_lexer": "ipython3",
   "version": "3.9.7"
  }
 },
 "nbformat": 4,
 "nbformat_minor": 5
}
